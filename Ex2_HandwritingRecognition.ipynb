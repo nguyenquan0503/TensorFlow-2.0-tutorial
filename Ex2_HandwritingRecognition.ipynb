{
  "nbformat": 4,
  "nbformat_minor": 0,
  "metadata": {
    "colab": {
      "name": "Ex2-HandwritingRecognition.ipynb",
      "provenance": [],
      "authorship_tag": "ABX9TyPS+JBBS/ojTppku0cyTnE9"
    },
    "kernelspec": {
      "name": "python3",
      "display_name": "Python 3"
    }
  },
  "cells": [
    {
      "cell_type": "code",
      "metadata": {
        "id": "QVTxbsN5wP_Q",
        "colab_type": "code",
        "colab": {
          "base_uri": "https://localhost:8080/",
          "height": 34
        },
        "outputId": "d10c1beb-002f-4bcb-a083-d1526f38ad6f"
      },
      "source": [
        "from google.colab import drive\n",
        "drive.mount('/content/gdrive')"
      ],
      "execution_count": 1,
      "outputs": [
        {
          "output_type": "stream",
          "text": [
            "Drive already mounted at /content/gdrive; to attempt to forcibly remount, call drive.mount(\"/content/gdrive\", force_remount=True).\n"
          ],
          "name": "stdout"
        }
      ]
    },
    {
      "cell_type": "code",
      "metadata": {
        "id": "WNawTjU4xDFe",
        "colab_type": "code",
        "colab": {}
      },
      "source": [
        "import tensorflow as tf\n",
        "import numpy as np\n",
        "import matplotlib.pyplot as plt\n",
        "from sklearn.model_selection import train_test_split"
      ],
      "execution_count": 0,
      "outputs": []
    },
    {
      "cell_type": "markdown",
      "metadata": {
        "id": "8cDwn7PHxhdy",
        "colab_type": "text"
      },
      "source": [
        "## Chuẩn bị dữ liệu\n",
        "Dữ liệu chữ số viết tay, các số từ 0 đến 9"
      ]
    },
    {
      "cell_type": "code",
      "metadata": {
        "id": "4C-tpx3yxnEp",
        "colab_type": "code",
        "colab": {}
      },
      "source": [
        "mnist = tf.keras.datasets.mnist\n",
        "(x_train, y_train),(x_test, y_test) = mnist.load_data()\n",
        "x = np.concatenate((x_train, x_test))\n",
        "y = np.concatenate((y_train, y_test))\n",
        "x = x/255.0"
      ],
      "execution_count": 0,
      "outputs": []
    },
    {
      "cell_type": "markdown",
      "metadata": {
        "id": "5PuZhCyBB2gr",
        "colab_type": "text"
      },
      "source": [
        "Chia dữ liệu thành TRAIN, VALIDATION, TEST"
      ]
    },
    {
      "cell_type": "code",
      "metadata": {
        "id": "OcyuwINbB8zk",
        "colab_type": "code",
        "colab": {
          "base_uri": "https://localhost:8080/",
          "height": 51
        },
        "outputId": "9ff159fc-640c-4964-b1ac-89ebd28b524a"
      },
      "source": [
        "x_train, x_test, y_train, y_test = train_test_split(x, y, test_size=0.2)\n",
        "x_train, x_val, y_train, y_val = train_test_split(x_train, y_train, test_size=0.2)\n",
        "print(\"Shape of x_train: \", x_train.shape)\n",
        "print(\"Shape of y_train: \", y_train.shape)"
      ],
      "execution_count": 4,
      "outputs": [
        {
          "output_type": "stream",
          "text": [
            "Shape of x_train:  (44800, 28, 28)\n",
            "Shape of y_train:  (44800,)\n"
          ],
          "name": "stdout"
        }
      ]
    },
    {
      "cell_type": "markdown",
      "metadata": {
        "id": "V895MBjVDJli",
        "colab_type": "text"
      },
      "source": [
        "## Xây dựng Model"
      ]
    },
    {
      "cell_type": "markdown",
      "metadata": {
        "id": "2oeY50VQD3U0",
        "colab_type": "text"
      },
      "source": [
        "Hàm callback để dừng training nếu đạt được độ chính xác hợp lý"
      ]
    },
    {
      "cell_type": "code",
      "metadata": {
        "id": "I4KXchHCDNC0",
        "colab_type": "code",
        "colab": {}
      },
      "source": [
        "class myCallback(tf.keras.callbacks.Callback):\n",
        "  def on_epoch_end(self, epoch, logs={}):\n",
        "    if(logs.get('accuracy')>0.99):\n",
        "      print(\"\\nReached 99% accuracy so cancelling training!\")\n",
        "      self.model.stop_training = True\n",
        "\n",
        "callbacks = myCallback()"
      ],
      "execution_count": 0,
      "outputs": []
    },
    {
      "cell_type": "code",
      "metadata": {
        "id": "XVIdWc7UD_PN",
        "colab_type": "code",
        "colab": {}
      },
      "source": [
        "model = tf.keras.Sequential([\n",
        "          tf.keras.layers.Flatten(input_shape=(28, 28)),\n",
        "          tf.keras.layers.Dense(512, activation=tf.nn.relu),\n",
        "          tf.keras.layers.Dense(10, activation=tf.nn.softmax)\n",
        "])\n",
        "model.compile(optimizer='adam',\n",
        "              loss='sparse_categorical_crossentropy',\n",
        "              metrics=['accuracy'])"
      ],
      "execution_count": 0,
      "outputs": []
    },
    {
      "cell_type": "code",
      "metadata": {
        "id": "QXReGdhIHIS9",
        "colab_type": "code",
        "colab": {
          "base_uri": "https://localhost:8080/",
          "height": 255
        },
        "outputId": "6257901b-e3ab-461f-cf10-62b0a1d836b7"
      },
      "source": [
        "model.summary()"
      ],
      "execution_count": 7,
      "outputs": [
        {
          "output_type": "stream",
          "text": [
            "Model: \"sequential\"\n",
            "_________________________________________________________________\n",
            "Layer (type)                 Output Shape              Param #   \n",
            "=================================================================\n",
            "flatten (Flatten)            (None, 784)               0         \n",
            "_________________________________________________________________\n",
            "dense (Dense)                (None, 512)               401920    \n",
            "_________________________________________________________________\n",
            "dense_1 (Dense)              (None, 10)                5130      \n",
            "=================================================================\n",
            "Total params: 407,050\n",
            "Trainable params: 407,050\n",
            "Non-trainable params: 0\n",
            "_________________________________________________________________\n"
          ],
          "name": "stdout"
        }
      ]
    },
    {
      "cell_type": "markdown",
      "metadata": {
        "id": "8oPeBS48GXDs",
        "colab_type": "text"
      },
      "source": [
        "## Train Model"
      ]
    },
    {
      "cell_type": "code",
      "metadata": {
        "id": "g3HLCO6jGZPu",
        "colab_type": "code",
        "colab": {
          "base_uri": "https://localhost:8080/",
          "height": 527
        },
        "outputId": "ba91b00f-2561-4354-cb49-7490c4d41a74"
      },
      "source": [
        "history = model.fit(x_train, y_train, \n",
        "                    epochs=15,\n",
        "                    validation_data=(x_val, y_val)\n",
        "                    #callbacks=[callbacks]\n",
        "                    )"
      ],
      "execution_count": 8,
      "outputs": [
        {
          "output_type": "stream",
          "text": [
            "Epoch 1/15\n",
            "1400/1400 [==============================] - 6s 4ms/step - loss: 0.2290 - accuracy: 0.9317 - val_loss: 0.1260 - val_accuracy: 0.9615\n",
            "Epoch 2/15\n",
            "1400/1400 [==============================] - 5s 4ms/step - loss: 0.0917 - accuracy: 0.9712 - val_loss: 0.0917 - val_accuracy: 0.9721\n",
            "Epoch 3/15\n",
            "1400/1400 [==============================] - 5s 4ms/step - loss: 0.0572 - accuracy: 0.9823 - val_loss: 0.0866 - val_accuracy: 0.9735\n",
            "Epoch 4/15\n",
            "1400/1400 [==============================] - 6s 4ms/step - loss: 0.0398 - accuracy: 0.9876 - val_loss: 0.0760 - val_accuracy: 0.9773\n",
            "Epoch 5/15\n",
            "1400/1400 [==============================] - 6s 4ms/step - loss: 0.0271 - accuracy: 0.9914 - val_loss: 0.0765 - val_accuracy: 0.9766\n",
            "Epoch 6/15\n",
            "1400/1400 [==============================] - 5s 4ms/step - loss: 0.0214 - accuracy: 0.9929 - val_loss: 0.0821 - val_accuracy: 0.9768\n",
            "Epoch 7/15\n",
            "1400/1400 [==============================] - 5s 4ms/step - loss: 0.0176 - accuracy: 0.9942 - val_loss: 0.0799 - val_accuracy: 0.9780\n",
            "Epoch 8/15\n",
            "1400/1400 [==============================] - 6s 4ms/step - loss: 0.0106 - accuracy: 0.9968 - val_loss: 0.0870 - val_accuracy: 0.9777\n",
            "Epoch 9/15\n",
            "1400/1400 [==============================] - 6s 4ms/step - loss: 0.0131 - accuracy: 0.9958 - val_loss: 0.0881 - val_accuracy: 0.9775\n",
            "Epoch 10/15\n",
            "1400/1400 [==============================] - 5s 4ms/step - loss: 0.0100 - accuracy: 0.9967 - val_loss: 0.0955 - val_accuracy: 0.9772\n",
            "Epoch 11/15\n",
            "1400/1400 [==============================] - 5s 4ms/step - loss: 0.0100 - accuracy: 0.9967 - val_loss: 0.0990 - val_accuracy: 0.9768\n",
            "Epoch 12/15\n",
            "1400/1400 [==============================] - 5s 4ms/step - loss: 0.0071 - accuracy: 0.9978 - val_loss: 0.1091 - val_accuracy: 0.9753\n",
            "Epoch 13/15\n",
            "1400/1400 [==============================] - 6s 4ms/step - loss: 0.0084 - accuracy: 0.9972 - val_loss: 0.1224 - val_accuracy: 0.9746\n",
            "Epoch 14/15\n",
            "1400/1400 [==============================] - 5s 4ms/step - loss: 0.0095 - accuracy: 0.9968 - val_loss: 0.0942 - val_accuracy: 0.9809\n",
            "Epoch 15/15\n",
            "1400/1400 [==============================] - 5s 4ms/step - loss: 0.0052 - accuracy: 0.9983 - val_loss: 0.0948 - val_accuracy: 0.9808\n"
          ],
          "name": "stdout"
        }
      ]
    },
    {
      "cell_type": "markdown",
      "metadata": {
        "id": "5GX6JrMcOVl0",
        "colab_type": "text"
      },
      "source": [
        "## Kết quả"
      ]
    },
    {
      "cell_type": "code",
      "metadata": {
        "id": "yauRpnCqOepJ",
        "colab_type": "code",
        "colab": {
          "base_uri": "https://localhost:8080/",
          "height": 51
        },
        "outputId": "057b4dbb-10b1-4d10-c5a5-1b8988ec5b17"
      },
      "source": [
        "model.evaluate(x_test, y_test)"
      ],
      "execution_count": 9,
      "outputs": [
        {
          "output_type": "stream",
          "text": [
            "438/438 [==============================] - 1s 2ms/step - loss: 0.1107 - accuracy: 0.9781\n"
          ],
          "name": "stdout"
        },
        {
          "output_type": "execute_result",
          "data": {
            "text/plain": [
              "[0.11073435842990875, 0.9781428575515747]"
            ]
          },
          "metadata": {
            "tags": []
          },
          "execution_count": 9
        }
      ]
    },
    {
      "cell_type": "markdown",
      "metadata": {
        "id": "5xH9hAoANkRb",
        "colab_type": "text"
      },
      "source": [
        "## Đánh giá kết quả"
      ]
    },
    {
      "cell_type": "code",
      "metadata": {
        "id": "j-KdPRbuNmuG",
        "colab_type": "code",
        "colab": {
          "base_uri": "https://localhost:8080/",
          "height": 390
        },
        "outputId": "ed129866-1a04-4d81-d572-7c04214fd4c6"
      },
      "source": [
        "train_acc = history.history['accuracy']\n",
        "val_acc = history.history['val_accuracy']\n",
        "\n",
        "train_loss = history.history['loss']\n",
        "val_loss = history.history['val_loss']\n",
        "\n",
        "epochs_range = range(15)\n",
        "\n",
        "plt.figure(figsize=(15, 6))\n",
        "plt.subplot(1, 2, 1)\n",
        "plt.plot(epochs_range, train_acc, label='Training Accuracy')\n",
        "plt.plot(epochs_range, val_acc, label='Validation Accuracy')\n",
        "plt.legend(loc='lower right')\n",
        "plt.title('Training and Validation Accuracy')\n",
        "\n",
        "plt.subplot(1, 2, 2)\n",
        "plt.plot(epochs_range, train_loss, label='Training Loss')\n",
        "plt.plot(epochs_range, val_loss, label='Validation Loss')\n",
        "plt.legend(loc='upper right')\n",
        "plt.title('Training and Validation Loss')\n",
        "plt.show()"
      ],
      "execution_count": 10,
      "outputs": [
        {
          "output_type": "display_data",
          "data": {
            "image/png": "[encoded data removed]",
            "text/plain": [
              "<Figure size 1080x432 with 2 Axes>"
            ]
          },
          "metadata": {
            "tags": [],
            "needs_background": "light"
          }
        }
      ]
    },
    {
      "cell_type": "markdown",
      "metadata": {
        "id": "VOhQNXO0ZbYu",
        "colab_type": "text"
      },
      "source": [
        "- Từ đồ thị Loss Function(Epoch) thì thấy là nên dừng lại sau epoch thứ 4 vì sau epoch này Validation Loss tăng lên => hiện tượng overfitting\n",
        "- Dừng sớm gọi là Early Stopping"
      ]
    }
  ]
}